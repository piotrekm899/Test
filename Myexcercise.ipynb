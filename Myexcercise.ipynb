{
  "nbformat": 4,
  "nbformat_minor": 0,
  "metadata": {
    "colab": {
      "provenance": [],
      "authorship_tag": "ABX9TyOVfVsj0aelwHOFnpPonptP",
      "include_colab_link": true
    },
    "kernelspec": {
      "name": "python3",
      "display_name": "Python 3"
    },
    "language_info": {
      "name": "python"
    }
  },
  "cells": [
    {
      "cell_type": "markdown",
      "metadata": {
        "id": "view-in-github",
        "colab_type": "text"
      },
      "source": [
        "<a href=\"https://colab.research.google.com/github/piotrekm899/Test/blob/test1/Myexcercise.ipynb\" target=\"_parent\"><img src=\"https://colab.research.google.com/assets/colab-badge.svg\" alt=\"Open In Colab\"/></a>"
      ]
    },
    {
      "cell_type": "code",
      "execution_count": 1,
      "metadata": {
        "colab": {
          "base_uri": "https://localhost:8080/"
        },
        "id": "HA2iDBxp-n6_",
        "outputId": "395485c9-e48d-4095-daab-a370f6139ffc"
      },
      "outputs": [
        {
          "output_type": "execute_result",
          "data": {
            "text/plain": [
              "5.0"
            ]
          },
          "metadata": {},
          "execution_count": 1
        }
      ],
      "source": [
        "import math\n",
        "math.fabs(-5)"
      ]
    },
    {
      "cell_type": "code",
      "source": [
        "#@title Domyślny tekst tytułu\n",
        "age = \"18\" #@param [\"18\", \"21\", \"99\"]\n",
        "temperature = 57 #@param {type:\"slider\", min:0, max:100, step:1}\n",
        "name = \"Piotr\" #@param {type:\"string\"}\n",
        "\n"
      ],
      "metadata": {
        "id": "vXSshvEi_tUh"
      },
      "execution_count": 5,
      "outputs": []
    },
    {
      "cell_type": "code",
      "source": [
        "print(age)\n",
        "print(temperature)\n",
        "print(name)"
      ],
      "metadata": {
        "colab": {
          "base_uri": "https://localhost:8080/"
        },
        "id": "iGiI2dUOAO7S",
        "outputId": "d582ead1-92a7-4e29-cfa8-1f4ce7884ffd"
      },
      "execution_count": 6,
      "outputs": [
        {
          "output_type": "stream",
          "name": "stdout",
          "text": [
            "18\n",
            "57\n",
            "Piotr\n"
          ]
        }
      ]
    }
  ]
}